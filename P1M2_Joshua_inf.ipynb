{
 "cells": [
  {
   "cell_type": "code",
   "execution_count": 6,
   "metadata": {},
   "outputs": [],
   "source": [
    "# Model Saving\n",
    "import pickle\n",
    "import pandas as pd"
   ]
  },
  {
   "cell_type": "code",
   "execution_count": 7,
   "metadata": {},
   "outputs": [],
   "source": [
    "# Load model\n",
    "with open('rf.pkl', 'rb') as file_1:\n",
    "    mode = pickle.load(file_1)"
   ]
  },
  {
   "cell_type": "code",
   "execution_count": 8,
   "metadata": {},
   "outputs": [],
   "source": [
    "dummy = {\n",
    "    'StudentID': [8000],\n",
    "    'Age': [17],\n",
    "    'Gender': [0],\n",
    "    'Ethnicity': [0],\n",
    "    'ParentalEducation': [5],\n",
    "    'StudyTimeWeekly': [20],\n",
    "    'Absences': [0],\n",
    "    'Tutoring': [1],\n",
    "    'ParentalSupport': [4],\n",
    "    'Extracurricular': [1],\n",
    "    'Sports': [1],\n",
    "    'Music': [1],\n",
    "    'Volunteering': [1],\n",
    "}\n",
    "\n",
    "inference = pd.DataFrame(dummy)"
   ]
  },
  {
   "cell_type": "code",
   "execution_count": 9,
   "metadata": {},
   "outputs": [
    {
     "data": {
      "text/plain": [
       "array([0.])"
      ]
     },
     "execution_count": 9,
     "metadata": {},
     "output_type": "execute_result"
    }
   ],
   "source": [
    "mode.predict(inference)"
   ]
  },
  {
   "cell_type": "markdown",
   "metadata": {},
   "source": [
    "Berdasarkan hasil prediksi, siswa ini diperkirakan mendapatkan nilai GradeClass 0, yang menunjukkan kelas A. Ini berarti model memprediksi bahwa siswa ini memiliki GPA 3.5 atau lebih tinggi."
   ]
  }
 ],
 "metadata": {
  "kernelspec": {
   "display_name": "base",
   "language": "python",
   "name": "python3"
  },
  "language_info": {
   "codemirror_mode": {
    "name": "ipython",
    "version": 3
   },
   "file_extension": ".py",
   "mimetype": "text/x-python",
   "name": "python",
   "nbconvert_exporter": "python",
   "pygments_lexer": "ipython3",
   "version": "3.9.19"
  }
 },
 "nbformat": 4,
 "nbformat_minor": 2
}
